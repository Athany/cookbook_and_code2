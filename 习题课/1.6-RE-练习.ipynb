{
 "cells": [
  {
   "cell_type": "markdown",
   "metadata": {},
   "source": [
    "# RE包使用大致步骤\n",
    "\n",
    "    1.使用 compile将表示正则的宇符串编译为一个 patterm对象\n",
    "    2.通过 pattern对象提供一系列方法对文本进行查找匹配,获得匹配结果,一个 Match对象\n",
    "    3.最后使用 Match对象提供的属性和方法获得信息,根据需要进行操作\n",
    "\n"
   ]
  },
  {
   "cell_type": "markdown",
   "metadata": {},
   "source": [
    "# Re常用函数\n",
    "\n",
    "    ·groupl获得一个或者多个分组匹配的字符串,当药获得整个匹配的子串时,直接使用goup或者goup (0)\n",
    "    ·start:获取分组匹配的子串在整个字符串中的其实位置,参数赋认为0\n",
    "    ·end:获取分组匹配的子串在整个字符串中的结束位置,默认为0\n",
    "    ·span:返回的结构技术( start(gourp), end(group)"
   ]
  },
  {
   "cell_type": "code",
   "execution_count": 3,
   "metadata": {},
   "outputs": [
    {
     "name": "stdout",
     "output_type": "stream",
     "text": [
      "None\n"
     ]
    }
   ],
   "source": [
    "# 导入相关包\n",
    "import re\n",
    "# 超找数字\n",
    "# r表示字符串不转义\n",
    "p = re.compile(r'\\d+')\n",
    "# 在字符串\"one12towthree33456four78\"中进行查找，按照规则p制定的正则进行查找\n",
    "# 返回None表示没有找到结果，否则会返回match对象\n",
    "# 参数3，6表示在字符串中查找的返回\n",
    "m = p.match(\"one12towthree33456four78\")\n",
    "print(m)"
   ]
  },
  {
   "cell_type": "code",
   "execution_count": 1,
   "metadata": {},
   "outputs": [
    {
     "name": "stdout",
     "output_type": "stream",
     "text": [
      "<re.Match object; span=(3, 5), match='12'>\n",
      "12\n"
     ]
    }
   ],
   "source": [
    "# 导入相关包\n",
    "import re\n",
    "# 超找数字\n",
    "# r表示字符串不转义\n",
    "p = re.compile(r'\\d+')\n",
    "# 在字符串\"one12towthree33456four78\"中进行查找，按照规则p制定的正则进行查找\n",
    "# 返回None表示没有找到结果，否则会返回match对象\n",
    "# 参数3，6表示在字符串中查找的返回\n",
    "m = p.match(\"one12towthree33456four78\", 3, 6)\n",
    "print(m)\n",
    "print(m[0])\n"
   ]
  },
  {
   "cell_type": "code",
   "execution_count": 11,
   "metadata": {},
   "outputs": [
    {
     "name": "stdout",
     "output_type": "stream",
     "text": [
      "<re.Match object; span=(0, 4), match='I am'>\n",
      "am\n",
      "2\n",
      "4\n",
      "('I', 'am')\n"
     ]
    }
   ],
   "source": [
    "import re\n",
    " \n",
    "# I 表示忽略掉大小写\n",
    " \n",
    "p = re.compile(r'([a-z]+) ([a-z]+)', re.I)\n",
    "m = p.match(\"I am really love zhouxiao\")\n",
    "print(m)\n",
    "print(m.group(2))\n",
    "print(m.start(2))\n",
    "print(m.end(2))\n",
    "print(m.groups())\n"
   ]
  },
  {
   "cell_type": "code",
   "execution_count": 8,
   "metadata": {},
   "outputs": [
    {
     "name": "stdout",
     "output_type": "stream",
     "text": [
      "<re.Match object; span=(0, 4), match='I am'>\n"
     ]
    }
   ],
   "source": [
    "p = re.compile('([a-z]+) ([a-z]+)', re.I)\n",
    "m = p.match(\"I am really love zhouxiao\")\n",
    "print(m)"
   ]
  },
  {
   "cell_type": "code",
   "execution_count": 9,
   "metadata": {},
   "outputs": [
    {
     "name": "stdout",
     "output_type": "stream",
     "text": [
      "None\n"
     ]
    }
   ],
   "source": [
    "p = re.compile('([a-z]+) ([a-z]+)')\n",
    "m = p.match(\"I am really love zhouxiao\")\n",
    "print(m)"
   ]
  },
  {
   "cell_type": "code",
   "execution_count": 12,
   "metadata": {},
   "outputs": [
    {
     "name": "stdout",
     "output_type": "stream",
     "text": [
      "I\n",
      "0\n",
      "1\n"
     ]
    }
   ],
   "source": [
    "print(m.group(1))\n",
    "print(m.start(1))\n",
    "print(m.end(1))"
   ]
  },
  {
   "cell_type": "code",
   "execution_count": 13,
   "metadata": {},
   "outputs": [
    {
     "name": "stdout",
     "output_type": "stream",
     "text": [
      "I am\n",
      "0\n",
      "4\n"
     ]
    }
   ],
   "source": [
    "print(m.group(0))\n",
    "print(m.start(0))\n",
    "print(m.end(0))"
   ]
  },
  {
   "cell_type": "markdown",
   "metadata": {},
   "source": [
    "# 查找\n",
    "- search(str, [,pos[, endpos]]):在字符串中查找匹配，pos和endpos表示起始位置\n",
    "- findall：查找所有\n",
    "- finditer：查找，返回一个iter结果"
   ]
  },
  {
   "cell_type": "code",
   "execution_count": 14,
   "metadata": {},
   "outputs": [
    {
     "name": "stdout",
     "output_type": "stream",
     "text": [
      "12\n",
      "<class 'list'>\n",
      "['12', '33456', '78']\n"
     ]
    }
   ],
   "source": [
    "import re\n",
    "p = re.compile(r'\\d+')\n",
    "m = p.search(\"one12towthree33456four78\")\n",
    "print(m.group(0))\n",
    " \n",
    "rst = p.findall(\"one12towthree33456four78\")\n",
    "print(type(rst))\n",
    "print(rst)\n"
   ]
  },
  {
   "cell_type": "markdown",
   "metadata": {},
   "source": [
    "# sub替换\n",
    "- sub(repl, str[, count])"
   ]
  },
  {
   "cell_type": "code",
   "execution_count": 16,
   "metadata": {},
   "outputs": [
    {
     "name": "stdout",
     "output_type": "stream",
     "text": [
      "Hello world Hello world yifei, Hello world you!\n"
     ]
    }
   ],
   "source": [
    "import re\n",
    "p = re.compile(r'(\\w+) (\\w+)')\n",
    "s = \"hello hi liu 456 yifei, I love you!\"\n",
    "rst = p.sub(r'Hello world', s)\n",
    "print(rst)"
   ]
  },
  {
   "cell_type": "markdown",
   "metadata": {},
   "source": [
    "# 匹配中文\n",
    "- 大部分中文内容表示范围是[u4e00-u9fa5], 不包括全角标点"
   ]
  },
  {
   "cell_type": "code",
   "execution_count": null,
   "metadata": {},
   "outputs": [
    {
     "name": "stdout",
     "output_type": "stream",
     "text": [
      "['世界', '你好']\n"
     ]
    }
   ],
   "source": [
    "\n",
    "import re\n",
    "title = u'世界 你好，hello world'\n",
    "p = re.compile(r'[\\u4e00-\\u9fa5]+')\n",
    "rst = p.findall(title)\n",
    "print(rst)"
   ]
  },
  {
   "cell_type": "markdown",
   "metadata": {},
   "source": [
    "# 贪婪和非贪婪\n",
    "- 贪婪：尽可能多的匹配，(*)表示贪婪匹配\n",
    "- 非贪婪：找到符合条件的最小内容即可，(?)表示非贪婪\n",
    "- 正则默认使用贪婪匹配"
   ]
  },
  {
   "cell_type": "code",
   "execution_count": 18,
   "metadata": {},
   "outputs": [
    {
     "name": "stdout",
     "output_type": "stream",
     "text": [
      "<div>name</div><div>age</div>\n",
      "<div>name</div>\n"
     ]
    }
   ],
   "source": [
    "import re\n",
    "title = u'<div>name</div><div>age</div>'\n",
    "p1 = re.compile(r'<div>.*</div>')\n",
    "p2 = re.compile(r'<div>.*?</div>')\n",
    "m1 = p1.search(title)\n",
    "print(m1.group())\n",
    "m2 = p2.search(title)\n",
    "print(m2.group())\n"
   ]
  },
  {
   "cell_type": "code",
   "execution_count": null,
   "metadata": {},
   "outputs": [],
   "source": []
  }
 ],
 "metadata": {
  "kernelspec": {
   "display_name": "Python 3",
   "language": "python",
   "name": "python3"
  },
  "language_info": {
   "codemirror_mode": {
    "name": "ipython",
    "version": 3
   },
   "file_extension": ".py",
   "mimetype": "text/x-python",
   "name": "python",
   "nbconvert_exporter": "python",
   "pygments_lexer": "ipython3",
   "version": "3.7.0"
  }
 },
 "nbformat": 4,
 "nbformat_minor": 2
}
